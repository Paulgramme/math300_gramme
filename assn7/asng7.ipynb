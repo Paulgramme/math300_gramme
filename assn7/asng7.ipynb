{
 "cells": [
  {
   "cell_type": "code",
   "execution_count": 50,
   "metadata": {},
   "outputs": [],
   "source": [
    "import sympy as symp\n",
    "import numpy as np\n",
    "import matplotlib.pyplot as plt\n",
    "xs = symp.symbols('x')\n",
    "expr = x**3 * symp.sin(4*x)\n",
    "res=symp.integrate(expr, (x, 1.0, 7.0))\n",
    "#using symp, this is taking the expression and intergrating it by x over the interval 1,7\n",
    "#to see answer just type 'res'\n",
    "\n",
    "\n",
    "def mcintegrate(f,a,b,N): #function,lower bound, higher bound, itterations\n",
    "    x = np.linspace(a, b, N)\n",
    "    fx = f(x)\n",
    "    A = np.sum(fx)*(b-a)/N\n",
    "    return A\n",
    "\n",
    "plt.plot(A,N(0,100000,1000))\n",
    "ax.set_xlabel('Number of samples')\n",
    "ax.set_ylabel('Error')\n",
    "\n",
    "#  Example on how it works:\n",
    "#  mcintegrate(x**3*symp.sin(4*x),0,1,1000)"
   ]
  },
  {
   "cell_type": "code",
   "execution_count": null,
   "metadata": {},
   "outputs": [],
   "source": []
  },
  {
   "cell_type": "markdown",
   "metadata": {},
   "source": [
    "#This assignment I found that there are many different ways to write out how the Monte Calro integration can be written within python. The biggest issue I came across was using sympy and graphing the error plot. "
   ]
  }
 ],
 "metadata": {
  "kernelspec": {
   "display_name": "Python 3",
   "language": "python",
   "name": "python3"
  },
  "language_info": {
   "codemirror_mode": {
    "name": "ipython",
    "version": 3
   },
   "file_extension": ".py",
   "mimetype": "text/x-python",
   "name": "python",
   "nbconvert_exporter": "python",
   "pygments_lexer": "ipython3",
   "version": "3.6.2"
  }
 },
 "nbformat": 4,
 "nbformat_minor": 2
}
