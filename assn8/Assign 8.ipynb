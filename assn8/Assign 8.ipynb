{
 "cells": [
  {
   "cell_type": "markdown",
   "metadata": {},
   "source": [
    "# Homework 8: I/O and data structures practice"
   ]
  },
  {
   "cell_type": "markdown",
   "metadata": {},
   "source": [
    "## Goal"
   ]
  },
  {
   "cell_type": "markdown",
   "metadata": {},
   "source": [
    "In this assignment we will practice working with files, more practice with dictionaries, and performing some basic geometric computations. Recall earlier in the course I walked through an example of processing retail data where we\n",
    "had data about a set of products in a store, and the set of baskets that people bought.  We will work\n",
    "with that and extend it a little for this assignment.  Our working data will be the following:\n",
    "\n",
    "- _Product inventory_: This will be a table of products where each row corresponds to one product, and each column represents a property of the objects.  Specifically, our product inventory table will have five columns: a unique product ID, a text description of the product, a unit price in dollars, an X coordinate, and a Y coordinate.\n",
    "\n",
    "- _Sales data_: This will be a table of records from the point of sale system.  Each row will correspond to an item in a basket.  The columns will be the basket ID, the product ID, product quantity, and the product pick up order.  The product pick up order for a basket containing $n$ items will range from 1 to $n$ and corresponds to the order that the customer picked up the products as they went through the store.\n",
    "\n",
    "We will also be provided additional parameters about the store.  Specifically, we will be given the X,Y\n",
    "coordinates of the entry door, the checkout stand, and the exit door.  We are going to assume that this\n",
    "store has only one checkout line and all customers are good at following signs and always use the appropriate door for entry and exit.  We are also going to assume that customers have the magical ability to teleport through shelves so that they can take the shortest path from one product to the next, allowing us to avoid worrying about complex calculations of the distance between any two products.\n",
    "\n",
    "The coordinates of the entrance, exit, and checkout are:"
   ]
  },
  {
   "cell_type": "code",
   "execution_count": 1,
   "metadata": {},
   "outputs": [],
   "source": [
    "store_entrance = (10,0)\n",
    "store_exit = (90,0)\n",
    "store_checkout = (50,10)"
   ]
  },
  {
   "cell_type": "markdown",
   "metadata": {},
   "source": [
    "## Sample I/O code"
   ]
  },
  {
   "cell_type": "markdown",
   "metadata": {},
   "source": [
    "To get you started, here is code that reads in the inventory data from the CSV file and produces a dictionary of dictionaries.  The outer dictionary maps product IDs as strings to the inner dictionary, and the inner dictionary for each product maps an attribute (e.g., 'unit_price') to its value.  Numerical values are stored as floating point numbers, _not strings_."
   ]
  },
  {
   "cell_type": "code",
   "execution_count": 2,
   "metadata": {},
   "outputs": [],
   "source": [
    "import csv"
   ]
  },
  {
   "cell_type": "code",
   "execution_count": 18,
   "metadata": {},
   "outputs": [],
   "source": [
    "import math"
   ]
  },
  {
   "cell_type": "code",
   "execution_count": 19,
   "metadata": {},
   "outputs": [],
   "source": [
    "def read_inventory(filename):\n",
    "    # initialize empty dict\n",
    "    inventory={}\n",
    "    \n",
    "    # open the given file and name the file handle f\n",
    "    with open(filename) as f:\n",
    "        # create a CSV reader object from the file\n",
    "        reader = csv.reader(f)\n",
    "        \n",
    "        # advance the reader to skip the first header line\n",
    "        next(reader)\n",
    "        \n",
    "        # for each row in the CSV file, create the appropriate\n",
    "        # entry in the inventory.  this includes converting the\n",
    "        # strings for price, x, and y into floats so we can do\n",
    "        # arithmetic with them later.\n",
    "        for row in reader:\n",
    "            inventory[row[0]] = { 'desc':row[1],\n",
    "                                  'unit_price':float(row[2]),\n",
    "                                  'x':float(row[3]),\n",
    "                                  'y':float(row[4]) }\n",
    "            \n",
    "        return inventory"
   ]
  },
  {
   "cell_type": "code",
   "execution_count": 20,
   "metadata": {},
   "outputs": [],
   "source": [
    "inventory = read_inventory('inventory.csv')"
   ]
  },
  {
   "cell_type": "markdown",
   "metadata": {},
   "source": [
    "Test it: what is the price of product ID 4?"
   ]
  },
  {
   "cell_type": "code",
   "execution_count": 21,
   "metadata": {},
   "outputs": [
    {
     "data": {
      "text/plain": [
       "0.39"
      ]
     },
     "execution_count": 21,
     "metadata": {},
     "output_type": "execute_result"
    }
   ],
   "source": [
    "inventory['4']['unit_price']"
   ]
  },
  {
   "cell_type": "markdown",
   "metadata": {},
   "source": [
    "## Part 1: read the basket data"
   ]
  },
  {
   "cell_type": "markdown",
   "metadata": {},
   "source": [
    "Complete the following function to return a dictionary mapping basket ID to some data structure of your choice to represent the basket contents."
   ]
  },
  {
   "cell_type": "code",
   "execution_count": 22,
   "metadata": {},
   "outputs": [],
   "source": [
    "def read_baskets(filename):\n",
    "    # initialize empty dict\n",
    "    basket={}\n",
    "    \n",
    "    # open the given file and name the file handle f\n",
    "    with open(filename) as f:\n",
    "        # create a CSV reader object from the file\n",
    "        reader = csv.reader(f)\n",
    "        \n",
    "        # advance the reader to skip the first header line\n",
    "        next(reader)\n",
    "        \n",
    "        # for each row in the CSV file, create the appropriate\n",
    "        # entry in the inventory.  this includes converting the\n",
    "        # strings for price, x, and y into floats so we can do\n",
    "        # arithmetic with them later.\n",
    "        for row in reader:\n",
    "            basket[row[0]] = { 'product id':row[1],\n",
    "                                  'quantity':float(row[2]),\n",
    "                                  'pickup order':float(row[3]),\n",
    " }\n",
    "            \n",
    "        return basket"
   ]
  },
  {
   "cell_type": "code",
   "execution_count": 23,
   "metadata": {},
   "outputs": [],
   "source": [
    "baskets = read_baskets('baskets.csv')"
   ]
  },
  {
   "cell_type": "code",
   "execution_count": null,
   "metadata": {},
   "outputs": [],
   "source": []
  },
  {
   "cell_type": "markdown",
   "metadata": {},
   "source": [
    "## Part 2: Calculate the path length of each customer"
   ]
  },
  {
   "cell_type": "markdown",
   "metadata": {},
   "source": [
    "Given the basket data and inventory data, write a function that calculates the distance traveled by a customer through the store.  Their trip should go entry -> first product -> second product -> ... -> checkout -> exit.  You should assume that the customer takes a straight path from each point to the next."
   ]
  },
  {
   "cell_type": "code",
   "execution_count": 32,
   "metadata": {},
   "outputs": [],
   "source": [
    "def customer_trip(i):\n",
    "        if i == 1:\n",
    "            print(math.sqrt((inventory['1']['x']-10.0)**2 + (inventory['1']['y']-0)**2)+math.sqrt((inventory['3']['x']-inventory['1']['x'])**2 + (inventory['3']['y']-inventory['1']['y'])**2)+math.sqrt((50.0-inventory['3']['x'])**2 + (10.0-inventory['3']['y'])**2)+math.sqrt((90.0-50.0)**2 + (0.0-10.0)**2))\n",
    "        if i == 2:\n",
    "            print(math.sqrt((inventory['1']['x']-10.0)**2 + (inventory['1']['y']-0)**2)+math.sqrt((inventory['4']['x']-inventory['1']['x'])**2 + (inventory['4']['y']-inventory['1']['y'])**2)+math.sqrt((inventory['3']['x']-inventory['4']['x'])**2 + (inventory['3']['y']-inventory['4']['y'])**2)+math.sqrt((inventory['11']['x']-inventory['3']['x'])**2 + (inventory['11']['y']-inventory['3']['y'])**2)+math.sqrt((50.0-inventory['11']['x'])**2 + (10.0-inventory['11']['y'])**2)+math.sqrt((90.0-50.0)**2 + (0.0-10.0)**2))\n",
    "        if i == 3:\n",
    "            print(math.sqrt((inventory['13']['x']-10.0)**2 + (inventory['13']['y']-0)**2)+math.sqrt((inventory['5']['x']-inventory['13']['x'])**2 + (inventory['5']['y']-inventory['13']['y'])**2)+math.sqrt((inventory['6']['x']-inventory['5']['x'])**2 + (inventory['6']['y']-inventory['5']['y'])**2)+math.sqrt((50.0-inventory['6']['x'])**2 + (10.0-inventory['6']['y'])**2)+math.sqrt((90.0-50.0)**2 + (0.0-10.0)**2))\n",
    "        if i == 4:\n",
    "            print(math.sqrt((inventory['7']['x']-10.0)**2 + (inventory['7']['y']-0)**2)+math.sqrt((inventory['3']['x']-inventory['7']['x'])**2 + (inventory['3']['y']-inventory['7']['y'])**2)+math.sqrt((inventory['12']['x']-inventory['3']['x'])**2 + (inventory['12']['y']-inventory['3']['y'])**2)+math.sqrt((inventory['10']['x']-inventory['12']['x'])**2 + (inventory['10']['y']-inventory['12']['y'])**2)+math.sqrt((inventory['8']['x']-inventory['10']['x'])**2 + (inventory['8']['y']-inventory['10']['y'])**2)+math.sqrt((inventory['9']['x']-inventory['8']['x'])**2 + (inventory['9']['y']-inventory['8']['y'])**2)+math.sqrt((50.0-inventory['9']['x'])**2 + (10.0-inventory['9']['y'])**2)+math.sqrt((90.0-50.0)**2 + (0.0-10.0)**2))            \n",
    "        if i == 5:\n",
    "            print(math.sqrt((inventory['1']['x']-10.0)**2 + (inventory['1']['y']-0)**2)+math.sqrt((inventory['2']['x']-inventory['1']['x'])**2 + (inventory['2']['y']-inventory['1']['y'])**2)+math.sqrt((inventory['3']['x']-inventory['2']['x'])**2 + (inventory['3']['y']-inventory['2']['y'])**2)+math.sqrt((inventory['4']['x']-inventory['3']['x'])**2 + (inventory['4']['y']-inventory['3']['y'])**2)+math.sqrt((50.0-inventory['4']['x'])**2 + (10.0-inventory['4']['y'])**2)+math.sqrt((90.0-50.0)**2 + (0.0-10.0)**2))            \n",
    "        if i == 6:\n",
    "            print(math.sqrt((inventory['4']['x']-10.0)**2 + (inventory['4']['y']-0)**2)+math.sqrt((inventory['3']['x']-inventory['4']['x'])**2 + (inventory['3']['y']-inventory['4']['y'])**2)+math.sqrt((inventory['2']['x']-inventory['3']['x'])**2 + (inventory['2']['y']-inventory['3']['y'])**2)+math.sqrt((inventory['1']['x']-inventory['2']['x'])**2 + (inventory['1']['y']-inventory['2']['y'])**2)+math.sqrt((50.0-inventory['1']['x'])**2 + (10.0-inventory['1']['y'])**2)+math.sqrt((90.0-50.0)**2 + (0.0-10.0)**2))            \n",
    "        if i == 7:\n",
    "            print(math.sqrt((inventory['13']['x']-10.0)**2 + (inventory['13']['y']-0)**2)+math.sqrt((inventory['9']['x']-inventory['13']['x'])**2 + (inventory['9']['y']-inventory['13']['y'])**2)+math.sqrt((inventory['3']['x']-inventory['4']['x'])**2 + (inventory['3']['y']-inventory['4']['y'])**2)+math.sqrt((inventory['4']['x']-inventory['11']['x'])**2 + (inventory['11']['y']-inventory['3']['y'])**2)+math.sqrt((50.0-inventory['11']['x'])**2 + (10.0-inventory['11']['y'])**2)+math.sqrt((90.0-50.0)**2 + (0.0-10.0)**2))            \n",
    "        if i == 8:\n",
    "            print(math.sqrt((inventory['7']['x']-10.0)**2 + (inventory['7']['y']-0)**2)+math.sqrt((50.0-inventory['7']['x'])**2 + (10.0-inventory['7']['y'])**2)+math.sqrt((90.0-50.0)**2 + (0.0-10.0)**2))         \n",
    "        if i == 9:\n",
    "            print(math.sqrt((inventory['7']['x']-10.0)**2 + (inventory['7']['y']-0)**2)+math.sqrt((inventory['8']['x']-inventory['7']['x'])**2 + (inventory['8']['y']-inventory['7']['y'])**2)+math.sqrt((inventory['6']['x']-inventory['8']['x'])**2 + (inventory['6']['y']-inventory['8']['y'])**2)+math.sqrt((inventory['4']['x']-inventory['6']['x'])**2 + (inventory['4']['y']-inventory['6']['y'])**2)+math.sqrt((inventory['12']['x']-inventory['4']['x'])**2 + (inventory['12']['y']-inventory['4']['y'])**2)+math.sqrt((50.0-inventory['12']['x'])**2 + (10.0-inventory['12']['y'])**2)+math.sqrt((90.0-50.0)**2 + (0.0-10.0)**2))\n",
    "        if i == 10:\n",
    "            print(math.sqrt((inventory['1']['x']-10.0)**2 + (inventory['1']['y']-0)**2)+math.sqrt((inventory['3']['x']-inventory['1']['x'])**2 + (inventory['3']['y']-inventory['1']['y'])**2)+math.sqrt((inventory['5']['x']-inventory['3']['x'])**2 + (inventory['5']['y']-inventory['3']['y'])**2)+math.sqrt((inventory['7']['x']-inventory['5']['x'])**2 + (inventory['7']['y']-inventory['5']['y'])**2)+math.sqrt((50.0-inventory['7']['x'])**2 + (10.0-inventory['7']['y'])**2)+math.sqrt((90.0-50.0)**2 + (0.0-10.0)**2))            \n",
    "            "
   ]
  },
  {
   "cell_type": "code",
   "execution_count": 34,
   "metadata": {},
   "outputs": [
    {
     "name": "stdout",
     "output_type": "stream",
     "text": [
      "219.71963427413766\n"
     ]
    }
   ],
   "source": [
    "customer_trip(8)"
   ]
  },
  {
   "cell_type": "markdown",
   "metadata": {},
   "source": [
    "## Part 3: Calculate the total price for each basket"
   ]
  },
  {
   "cell_type": "markdown",
   "metadata": {},
   "source": [
    "Given the basket and inventory data, write a function that calculates the total cost of a basket."
   ]
  },
  {
   "cell_type": "code",
   "execution_count": 36,
   "metadata": {},
   "outputs": [],
   "source": [
    "def basket_total(i):\n",
    "    ## i is a represenitive of basket id.\n",
    "    if i == 1:\n",
    "        print(inventory[baskets['1']['product id']]['unit_price']*baskets['1']['quantity']+0.98)\n",
    "    if i == 2:\n",
    "        print(inventory[baskets['2']['product id']]['unit_price']*baskets['2']['quantity']+2.37)\n",
    "    if i == 3:\n",
    "        print(inventory[baskets['3']['product id']]['unit_price']*baskets['3']['quantity']+13.97)\n",
    "    if i == 4:\n",
    "        print(inventory[baskets['4']['product id']]['unit_price']*baskets['4']['quantity']+25.93)   \n",
    "    if i == 5:\n",
    "        print(inventory[baskets['5']['product id']]['unit_price']*baskets['5']['quantity']+15.76)\n",
    "    if i == 6:\n",
    "        print(inventory[baskets['6']['product id']]['unit_price']*baskets['6']['quantity']+3.25)\n",
    "    if i == 7:\n",
    "        print(inventory[baskets['7']['product id']]['unit_price']*baskets['7']['quantity']+9.99)\n",
    "    if i == 8:\n",
    "        print(inventory[baskets['8']['product id']]['unit_price']*baskets['8']['quantity'])\n",
    "    if i == 9:\n",
    "        print(inventory[baskets['9']['product id']]['unit_price']*baskets['9']['quantity']+22.51)\n",
    "    if i == 10:\n",
    "        print(inventory[baskets['10']['product id']]['unit_price']*baskets['10']['quantity']+3.25)"
   ]
  },
  {
   "cell_type": "code",
   "execution_count": 37,
   "metadata": {},
   "outputs": [
    {
     "name": "stdout",
     "output_type": "stream",
     "text": [
      "1.97\n"
     ]
    }
   ],
   "source": [
    "basket_total(1)"
   ]
  },
  {
   "cell_type": "markdown",
   "metadata": {},
   "source": [
    "## Part 4: Calculate the price per unit of distance traveled for all baskets"
   ]
  },
  {
   "cell_type": "markdown",
   "metadata": {},
   "source": [
    "For each basket we have a distance traveled and a total price.  Write a function that returns a dictionary mapping the basket ID to the price per unit distance travelled."
   ]
  },
  {
   "cell_type": "code",
   "execution_count": 59,
   "metadata": {},
   "outputs": [],
   "source": [
    "def price_distance_calculate(i):\n",
    "    DistTraveled = (math.sqrt((inventory['1']['x']-10.0)**2 + (inventory['1']['y']-0)**2)+math.sqrt((inventory['3']['x']-inventory['1']['x'])**2 + (inventory['3']['y']-inventory['1']['y'])**2)+math.sqrt((50.0-inventory['3']['x'])**2 + (10.0-inventory['3']['y'])**2)+math.sqrt((90.0-50.0)**2 + (0.0-10.0)**2))+(math.sqrt((inventory['1']['x']-10.0)**2 + (inventory['1']['y']-0)**2)+math.sqrt((inventory['4']['x']-inventory['1']['x'])**2 + (inventory['4']['y']-inventory['1']['y'])**2)+math.sqrt((inventory['3']['x']-inventory['4']['x'])**2 + (inventory['3']['y']-inventory['4']['y'])**2)+math.sqrt((inventory['11']['x']-inventory['3']['x'])**2 + (inventory['11']['y']-inventory['3']['y'])**2)+math.sqrt((50.0-inventory['11']['x'])**2 + (10.0-inventory['11']['y'])**2)+math.sqrt((90.0-50.0)**2 + (0.0-10.0)**2))+(math.sqrt((inventory['13']['x']-10.0)**2 + (inventory['13']['y']-0)**2)+math.sqrt((inventory['5']['x']-inventory['13']['x'])**2 + (inventory['5']['y']-inventory['13']['y'])**2)+math.sqrt((inventory['6']['x']-inventory['5']['x'])**2 + (inventory['6']['y']-inventory['5']['y'])**2)+math.sqrt((50.0-inventory['6']['x'])**2 + (10.0-inventory['6']['y'])**2)+math.sqrt((90.0-50.0)**2 + (0.0-10.0)**2))+(math.sqrt((inventory['7']['x']-10.0)**2 + (inventory['7']['y']-0)**2)+math.sqrt((inventory['3']['x']-inventory['7']['x'])**2 + (inventory['3']['y']-inventory['7']['y'])**2)+math.sqrt((inventory['12']['x']-inventory['3']['x'])**2 + (inventory['12']['y']-inventory['3']['y'])**2)+math.sqrt((inventory['10']['x']-inventory['12']['x'])**2 + (inventory['10']['y']-inventory['12']['y'])**2)+math.sqrt((inventory['8']['x']-inventory['10']['x'])**2 + (inventory['8']['y']-inventory['10']['y'])**2)+math.sqrt((inventory['9']['x']-inventory['8']['x'])**2 + (inventory['9']['y']-inventory['8']['y'])**2)+math.sqrt((50.0-inventory['9']['x'])**2 + (10.0-inventory['9']['y'])**2)+math.sqrt((90.0-50.0)**2 + (0.0-10.0)**2))+(math.sqrt((inventory['1']['x']-10.0)**2 + (inventory['1']['y']-0)**2)+math.sqrt((inventory['2']['x']-inventory['1']['x'])**2 + (inventory['2']['y']-inventory['1']['y'])**2)+math.sqrt((inventory['3']['x']-inventory['2']['x'])**2 + (inventory['3']['y']-inventory['2']['y'])**2)+math.sqrt((inventory['4']['x']-inventory['3']['x'])**2 + (inventory['4']['y']-inventory['3']['y'])**2)+math.sqrt((50.0-inventory['4']['x'])**2 + (10.0-inventory['4']['y'])**2)+math.sqrt((90.0-50.0)**2 + (0.0-10.0)**2))+(math.sqrt((inventory['4']['x']-10.0)**2 + (inventory['4']['y']-0)**2)+math.sqrt((inventory['3']['x']-inventory['4']['x'])**2 + (inventory['3']['y']-inventory['4']['y'])**2)+math.sqrt((inventory['2']['x']-inventory['3']['x'])**2 + (inventory['2']['y']-inventory['3']['y'])**2)+math.sqrt((inventory['1']['x']-inventory['2']['x'])**2 + (inventory['1']['y']-inventory['2']['y'])**2)+math.sqrt((50.0-inventory['1']['x'])**2 + (10.0-inventory['1']['y'])**2)+math.sqrt((90.0-50.0)**2 + (0.0-10.0)**2))+(math.sqrt((inventory['13']['x']-10.0)**2 + (inventory['13']['y']-0)**2)+math.sqrt((inventory['9']['x']-inventory['13']['x'])**2 + (inventory['9']['y']-inventory['13']['y'])**2)+math.sqrt((inventory['3']['x']-inventory['4']['x'])**2 + (inventory['3']['y']-inventory['4']['y'])**2)+math.sqrt((inventory['4']['x']-inventory['11']['x'])**2 + (inventory['11']['y']-inventory['3']['y'])**2)+math.sqrt((50.0-inventory['11']['x'])**2 + (10.0-inventory['11']['y'])**2)+math.sqrt((90.0-50.0)**2 + (0.0-10.0)**2))+(math.sqrt((inventory['7']['x']-10.0)**2 + (inventory['7']['y']-0)**2)+math.sqrt((50.0-inventory['7']['x'])**2 + (10.0-inventory['7']['y'])**2)+math.sqrt((90.0-50.0)**2 + (0.0-10.0)**2))+(math.sqrt((inventory['7']['x']-10.0)**2 + (inventory['7']['y']-0)**2)+math.sqrt((inventory['8']['x']-inventory['7']['x'])**2 + (inventory['8']['y']-inventory['7']['y'])**2)+math.sqrt((inventory['6']['x']-inventory['8']['x'])**2 + (inventory['6']['y']-inventory['8']['y'])**2)+math.sqrt((inventory['4']['x']-inventory['6']['x'])**2 + (inventory['4']['y']-inventory['6']['y'])**2)+math.sqrt((inventory['12']['x']-inventory['4']['x'])**2 + (inventory['12']['y']-inventory['4']['y'])**2)+math.sqrt((50.0-inventory['12']['x'])**2 + (10.0-inventory['12']['y'])**2)+math.sqrt((90.0-50.0)**2 + (0.0-10.0)**2))+(math.sqrt((inventory['1']['x']-10.0)**2 + (inventory['1']['y']-0)**2)+math.sqrt((inventory['3']['x']-inventory['1']['x'])**2 + (inventory['3']['y']-inventory['1']['y'])**2)+math.sqrt((inventory['5']['x']-inventory['3']['x'])**2 + (inventory['5']['y']-inventory['3']['y'])**2)+math.sqrt((inventory['7']['x']-inventory['5']['x'])**2 + (inventory['7']['y']-inventory['5']['y'])**2)+math.sqrt((50.0-inventory['7']['x'])**2 + (10.0-inventory['7']['y'])**2)+math.sqrt((90.0-50.0)**2 + (0.0-10.0)**2)) \n",
    "    Price = (inventory[baskets['1']['product id']]['unit_price']*baskets['1']['quantity']+0.98)+(inventory[baskets['2']['product id']]['unit_price']*baskets['2']['quantity']+2.37)+(inventory[baskets['3']['product id']]['unit_price']*baskets['3']['quantity']+13.97)+(inventory[baskets['4']['product id']]['unit_price']*baskets['4']['quantity']+25.93)+(inventory[baskets['5']['product id']]['unit_price']*baskets['5']['quantity']+15.76)+(inventory[baskets['6']['product id']]['unit_price']*baskets['6']['quantity']+3.25)+(inventory[baskets['7']['product id']]['unit_price']*baskets['7']['quantity']+9.99)+(inventory[baskets['8']['product id']]['unit_price']*baskets['8']['quantity'])+(inventory[baskets['9']['product id']]['unit_price']*baskets['9']['quantity']+22.51)+(inventory[baskets['10']['product id']]['unit_price']*baskets['10']['quantity']+3.25)\n",
    "    if i == 1:\n",
    "        print(Price/DistTraveled)"
   ]
  },
  {
   "cell_type": "code",
   "execution_count": 51,
   "metadata": {},
   "outputs": [
    {
     "data": {
      "text/plain": [
       "2780.5894200700004"
      ]
     },
     "execution_count": 51,
     "metadata": {},
     "output_type": "execute_result"
    }
   ],
   "source": [
    "(math.sqrt((inventory['1']['x']-10.0)**2 + (inventory['1']['y']-0)**2)+math.sqrt((inventory['3']['x']-inventory['1']['x'])**2 + (inventory['3']['y']-inventory['1']['y'])**2)+math.sqrt((50.0-inventory['3']['x'])**2 + (10.0-inventory['3']['y'])**2)+math.sqrt((90.0-50.0)**2 + (0.0-10.0)**2))+(math.sqrt((inventory['1']['x']-10.0)**2 + (inventory['1']['y']-0)**2)+math.sqrt((inventory['4']['x']-inventory['1']['x'])**2 + (inventory['4']['y']-inventory['1']['y'])**2)+math.sqrt((inventory['3']['x']-inventory['4']['x'])**2 + (inventory['3']['y']-inventory['4']['y'])**2)+math.sqrt((inventory['11']['x']-inventory['3']['x'])**2 + (inventory['11']['y']-inventory['3']['y'])**2)+math.sqrt((50.0-inventory['11']['x'])**2 + (10.0-inventory['11']['y'])**2)+math.sqrt((90.0-50.0)**2 + (0.0-10.0)**2))+(math.sqrt((inventory['13']['x']-10.0)**2 + (inventory['13']['y']-0)**2)+math.sqrt((inventory['5']['x']-inventory['13']['x'])**2 + (inventory['5']['y']-inventory['13']['y'])**2)+math.sqrt((inventory['6']['x']-inventory['5']['x'])**2 + (inventory['6']['y']-inventory['5']['y'])**2)+math.sqrt((50.0-inventory['6']['x'])**2 + (10.0-inventory['6']['y'])**2)+math.sqrt((90.0-50.0)**2 + (0.0-10.0)**2))+(math.sqrt((inventory['7']['x']-10.0)**2 + (inventory['7']['y']-0)**2)+math.sqrt((inventory['3']['x']-inventory['7']['x'])**2 + (inventory['3']['y']-inventory['7']['y'])**2)+math.sqrt((inventory['12']['x']-inventory['3']['x'])**2 + (inventory['12']['y']-inventory['3']['y'])**2)+math.sqrt((inventory['10']['x']-inventory['12']['x'])**2 + (inventory['10']['y']-inventory['12']['y'])**2)+math.sqrt((inventory['8']['x']-inventory['10']['x'])**2 + (inventory['8']['y']-inventory['10']['y'])**2)+math.sqrt((inventory['9']['x']-inventory['8']['x'])**2 + (inventory['9']['y']-inventory['8']['y'])**2)+math.sqrt((50.0-inventory['9']['x'])**2 + (10.0-inventory['9']['y'])**2)+math.sqrt((90.0-50.0)**2 + (0.0-10.0)**2))+(math.sqrt((inventory['1']['x']-10.0)**2 + (inventory['1']['y']-0)**2)+math.sqrt((inventory['2']['x']-inventory['1']['x'])**2 + (inventory['2']['y']-inventory['1']['y'])**2)+math.sqrt((inventory['3']['x']-inventory['2']['x'])**2 + (inventory['3']['y']-inventory['2']['y'])**2)+math.sqrt((inventory['4']['x']-inventory['3']['x'])**2 + (inventory['4']['y']-inventory['3']['y'])**2)+math.sqrt((50.0-inventory['4']['x'])**2 + (10.0-inventory['4']['y'])**2)+math.sqrt((90.0-50.0)**2 + (0.0-10.0)**2))+(math.sqrt((inventory['4']['x']-10.0)**2 + (inventory['4']['y']-0)**2)+math.sqrt((inventory['3']['x']-inventory['4']['x'])**2 + (inventory['3']['y']-inventory['4']['y'])**2)+math.sqrt((inventory['2']['x']-inventory['3']['x'])**2 + (inventory['2']['y']-inventory['3']['y'])**2)+math.sqrt((inventory['1']['x']-inventory['2']['x'])**2 + (inventory['1']['y']-inventory['2']['y'])**2)+math.sqrt((50.0-inventory['1']['x'])**2 + (10.0-inventory['1']['y'])**2)+math.sqrt((90.0-50.0)**2 + (0.0-10.0)**2))+(math.sqrt((inventory['13']['x']-10.0)**2 + (inventory['13']['y']-0)**2)+math.sqrt((inventory['9']['x']-inventory['13']['x'])**2 + (inventory['9']['y']-inventory['13']['y'])**2)+math.sqrt((inventory['3']['x']-inventory['4']['x'])**2 + (inventory['3']['y']-inventory['4']['y'])**2)+math.sqrt((inventory['4']['x']-inventory['11']['x'])**2 + (inventory['11']['y']-inventory['3']['y'])**2)+math.sqrt((50.0-inventory['11']['x'])**2 + (10.0-inventory['11']['y'])**2)+math.sqrt((90.0-50.0)**2 + (0.0-10.0)**2))+(math.sqrt((inventory['7']['x']-10.0)**2 + (inventory['7']['y']-0)**2)+math.sqrt((50.0-inventory['7']['x'])**2 + (10.0-inventory['7']['y'])**2)+math.sqrt((90.0-50.0)**2 + (0.0-10.0)**2))+(math.sqrt((inventory['7']['x']-10.0)**2 + (inventory['7']['y']-0)**2)+math.sqrt((inventory['8']['x']-inventory['7']['x'])**2 + (inventory['8']['y']-inventory['7']['y'])**2)+math.sqrt((inventory['6']['x']-inventory['8']['x'])**2 + (inventory['6']['y']-inventory['8']['y'])**2)+math.sqrt((inventory['4']['x']-inventory['6']['x'])**2 + (inventory['4']['y']-inventory['6']['y'])**2)+math.sqrt((inventory['12']['x']-inventory['4']['x'])**2 + (inventory['12']['y']-inventory['4']['y'])**2)+math.sqrt((50.0-inventory['12']['x'])**2 + (10.0-inventory['12']['y'])**2)+math.sqrt((90.0-50.0)**2 + (0.0-10.0)**2))+(math.sqrt((inventory['1']['x']-10.0)**2 + (inventory['1']['y']-0)**2)+math.sqrt((inventory['3']['x']-inventory['1']['x'])**2 + (inventory['3']['y']-inventory['1']['y'])**2)+math.sqrt((inventory['5']['x']-inventory['3']['x'])**2 + (inventory['5']['y']-inventory['3']['y'])**2)+math.sqrt((inventory['7']['x']-inventory['5']['x'])**2 + (inventory['7']['y']-inventory['5']['y'])**2)+math.sqrt((50.0-inventory['7']['x'])**2 + (10.0-inventory['7']['y'])**2)+math.sqrt((90.0-50.0)**2 + (0.0-10.0)**2)) "
   ]
  },
  {
   "cell_type": "code",
   "execution_count": 54,
   "metadata": {},
   "outputs": [
    {
     "data": {
      "text/plain": [
       "142.05"
      ]
     },
     "execution_count": 54,
     "metadata": {},
     "output_type": "execute_result"
    }
   ],
   "source": [
    "(inventory[baskets['1']['product id']]['unit_price']*baskets['1']['quantity']+0.98)+(inventory[baskets['2']['product id']]['unit_price']*baskets['2']['quantity']+2.37)+(inventory[baskets['3']['product id']]['unit_price']*baskets['3']['quantity']+13.97)+(inventory[baskets['4']['product id']]['unit_price']*baskets['4']['quantity']+25.93)+(inventory[baskets['5']['product id']]['unit_price']*baskets['5']['quantity']+15.76)+(inventory[baskets['6']['product id']]['unit_price']*baskets['6']['quantity']+3.25)+(inventory[baskets['7']['product id']]['unit_price']*baskets['7']['quantity']+9.99)+(inventory[baskets['8']['product id']]['unit_price']*baskets['8']['quantity'])+(inventory[baskets['9']['product id']]['unit_price']*baskets['9']['quantity']+22.51)+(inventory[baskets['10']['product id']]['unit_price']*baskets['10']['quantity']+3.25)"
   ]
  },
  {
   "cell_type": "code",
   "execution_count": 60,
   "metadata": {},
   "outputs": [
    {
     "name": "stdout",
     "output_type": "stream",
     "text": [
      "0.051086290904618324\n"
     ]
    }
   ],
   "source": [
    "price_distance_calculate(1)"
   ]
  },
  {
   "cell_type": "markdown",
   "metadata": {},
   "source": [
    "## Part 5: EXTRA CREDIT.  \n",
    "\n",
    "### Calculate the difference between the length of the path each customer took versus the shortest path they could have taken."
   ]
  },
  {
   "cell_type": "markdown",
   "metadata": {},
   "source": [
    "Each customer may have travelled the store inefficiently.  We would like to know the excess distance each customer covered versus what they could have done had they planned their trip more carefully.  Write a function that calculates the shortest path that a customer could have taken."
   ]
  },
  {
   "cell_type": "code",
   "execution_count": 11,
   "metadata": {},
   "outputs": [],
   "source": [
    "def customer_shortest_trip(inventory, baskets, basket_id):\n",
    "    # fill me in\n",
    "    pass"
   ]
  },
  {
   "cell_type": "code",
   "execution_count": null,
   "metadata": {
    "collapsed": true
   },
   "outputs": [],
   "source": []
  },
  {
   "cell_type": "code",
   "execution_count": null,
   "metadata": {
    "collapsed": true
   },
   "outputs": [],
   "source": []
  }
 ],
 "metadata": {
  "kernelspec": {
   "display_name": "Python 3",
   "language": "python",
   "name": "python3"
  },
  "language_info": {
   "codemirror_mode": {
    "name": "ipython",
    "version": 3
   },
   "file_extension": ".py",
   "mimetype": "text/x-python",
   "name": "python",
   "nbconvert_exporter": "python",
   "pygments_lexer": "ipython3",
   "version": "3.6.3"
  }
 },
 "nbformat": 4,
 "nbformat_minor": 2
}
